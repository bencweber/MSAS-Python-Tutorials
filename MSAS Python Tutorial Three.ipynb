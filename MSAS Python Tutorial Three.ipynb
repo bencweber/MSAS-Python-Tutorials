{
 "cells": [
  {
   "cell_type": "markdown",
   "id": "13e9aa66",
   "metadata": {},
   "source": [
    "# MSAS Python Tutorial Three"
   ]
  },
  {
   "cell_type": "markdown",
   "id": "9a7906bf",
   "metadata": {},
   "source": [
    "**Intro to dataframe analysis**"
   ]
  },
  {
   "cell_type": "markdown",
   "id": "845efea0",
   "metadata": {},
   "source": [
    "We will begin this tutorial by getting everyone setup to have the capability to explore data analysis within python"
   ]
  },
  {
   "cell_type": "markdown",
   "id": "6c848080",
   "metadata": {},
   "source": [
    "Here is a list of libraries that are useful to already have installed, and we will discuss how to install them:\n",
    "\n",
    "* pandas\n",
    "* numpy\n",
    "* regex\n",
    "* SciPy\n",
    "* matplotlib\n",
    "* scikit-learn\n",
    "\n",
    "There are many more useful libraries in the world of data science, but these are a good start because there is a decent chance I will use them in the coming tutorials"
   ]
  },
  {
   "cell_type": "markdown",
   "id": "85c9aa8a",
   "metadata": {},
   "source": [
    "**The following code snippet is reliable when installing libraries**"
   ]
  },
  {
   "cell_type": "code",
   "execution_count": null,
   "id": "ba6aa56a",
   "metadata": {},
   "outputs": [],
   "source": [
    "import sys\n",
    "!conda install --yes --prefix {sys.prefix} scikit-learn"
   ]
  },
  {
   "cell_type": "markdown",
   "id": "86cd6d26",
   "metadata": {},
   "source": [
    "**If python says that conda is not updated, I have heard this code snippet is helpful**\n",
    "\n",
    "**However, do not run this now, I am pretty sure it takes a long time to run!**"
   ]
  },
  {
   "cell_type": "code",
   "execution_count": null,
   "id": "aadfa371",
   "metadata": {},
   "outputs": [],
   "source": [
    "#conda install -n base -c defaults conda=23.7.4"
   ]
  },
  {
   "cell_type": "markdown",
   "id": "5541cb4d",
   "metadata": {},
   "source": [
    "Let's start by importing the pandas library:"
   ]
  },
  {
   "cell_type": "code",
   "execution_count": null,
   "id": "4762083a",
   "metadata": {},
   "outputs": [],
   "source": [
    "import pandas as pd"
   ]
  },
  {
   "cell_type": "markdown",
   "id": "009ba6b2",
   "metadata": {},
   "source": [
    "The most fundamental aspect of the pandas library is that it allows us to read in a CSV file, (Comma Seperated Values) which is a form of tabular data storage."
   ]
  },
  {
   "cell_type": "code",
   "execution_count": null,
   "id": "2abdf1b1",
   "metadata": {},
   "outputs": [],
   "source": [
    "df = pd.read_csv('statsBomb Michigan 2022 Plays.csv')"
   ]
  },
  {
   "cell_type": "code",
   "execution_count": null,
   "id": "4ce453ee",
   "metadata": {},
   "outputs": [],
   "source": [
    "df.head()"
   ]
  },
  {
   "cell_type": "markdown",
   "id": "594d1ec0",
   "metadata": {},
   "source": [
    "The head method is very useful as it allows us to take a quick glance at the data to ensure that it looks the way we want it to"
   ]
  },
  {
   "cell_type": "markdown",
   "id": "0a97d67b",
   "metadata": {},
   "source": [
    "**Now let's take a look a a few important data frame attributes**"
   ]
  },
  {
   "cell_type": "code",
   "execution_count": null,
   "id": "14955184",
   "metadata": {},
   "outputs": [],
   "source": [
    "df.shape"
   ]
  },
  {
   "cell_type": "code",
   "execution_count": null,
   "id": "bca16853",
   "metadata": {},
   "outputs": [],
   "source": [
    "df.columns"
   ]
  },
  {
   "cell_type": "code",
   "execution_count": null,
   "id": "fc901c28",
   "metadata": {},
   "outputs": [],
   "source": [
    "df.dtypes"
   ]
  },
  {
   "cell_type": "markdown",
   "id": "05adc316",
   "metadata": {},
   "source": [
    "Column isolation and distinguishing between Dataframes and Series"
   ]
  },
  {
   "cell_type": "code",
   "execution_count": null,
   "id": "03af7cc8",
   "metadata": {},
   "outputs": [],
   "source": [
    "col1 = df['offense_team_name']\n",
    "print(col1)\n",
    "display(type(col1))"
   ]
  },
  {
   "cell_type": "markdown",
   "id": "775caf79",
   "metadata": {},
   "source": [
    "**Splicing and subsetting a dataframe:**\n",
    "\n",
    "* This is an essential skill when analyzing dataframes in Python"
   ]
  },
  {
   "cell_type": "markdown",
   "id": "39700f66",
   "metadata": {},
   "source": [
    "What if I was only interested in JJ's pass placement displacement from the Ohio State game?"
   ]
  },
  {
   "cell_type": "code",
   "execution_count": null,
   "id": "d8fe9aa8",
   "metadata": {},
   "outputs": [],
   "source": [
    "df = df.loc[:,['defense_team_name','play_pass_placement_displacement']]\n",
    "df.head()"
   ]
  },
  {
   "cell_type": "code",
   "execution_count": null,
   "id": "7005295c",
   "metadata": {},
   "outputs": [],
   "source": [
    "df = df[df['defense_team_name'] == 'Ohio State Buckeyes']\n",
    "df.head()"
   ]
  },
  {
   "cell_type": "markdown",
   "id": "f39781e5",
   "metadata": {},
   "source": [
    "How do you guys think I could eliminate the null values from the dataframe?"
   ]
  },
  {
   "cell_type": "code",
   "execution_count": null,
   "id": "5c684316",
   "metadata": {},
   "outputs": [],
   "source": [
    "df = df[df['play_pass_placement_displacement'].notna()]\n",
    "df.head()"
   ]
  },
  {
   "cell_type": "markdown",
   "id": "9bf4fe84",
   "metadata": {},
   "source": [
    "Try this subsetting problem on your own. Let's say that you only want to investigate plays when Michigan is running a two minute offense, how could you do that? \n",
    "\n",
    "Hint: Look at the CSV directory to observe which columns you will need to use in your boolean mask\n",
    "Hint: 120 seconds is equal to 120,000 milliseconds"
   ]
  },
  {
   "cell_type": "code",
   "execution_count": null,
   "id": "dc657db3",
   "metadata": {},
   "outputs": [],
   "source": []
  },
  {
   "cell_type": "markdown",
   "id": "8e0d232f",
   "metadata": {},
   "source": [
    "**Lastly, let's look at a few useful methods that pandas has to offer:**"
   ]
  },
  {
   "cell_type": "code",
   "execution_count": null,
   "id": "234393a5",
   "metadata": {},
   "outputs": [],
   "source": [
    "df.describe()"
   ]
  },
  {
   "cell_type": "code",
   "execution_count": null,
   "id": "1fa30500",
   "metadata": {
    "scrolled": true
   },
   "outputs": [],
   "source": [
    "df.sort_values(by='play_pass_placement_displacement',ascending=False,inplace=True)"
   ]
  },
  {
   "cell_type": "code",
   "execution_count": null,
   "id": "c60f916d",
   "metadata": {},
   "outputs": [],
   "source": [
    "df.set_index('defense_team_name',inplace=True)"
   ]
  },
  {
   "cell_type": "code",
   "execution_count": null,
   "id": "2ea64af5",
   "metadata": {},
   "outputs": [],
   "source": [
    "df.head()"
   ]
  },
  {
   "cell_type": "markdown",
   "id": "1ee63f92",
   "metadata": {},
   "source": [
    "**I hope you guys enjoyed this intro to dataframe analysis in python! Definitely try some of this stuff on your own! Remember, we just scratched the surface with attributes, methods, and boolean masking in pandas, so if you are wondering if its possible to view or manipulate your dataframe in a certain way, just look it up!**"
   ]
  }
 ],
 "metadata": {
  "kernelspec": {
   "display_name": "Python 3 (ipykernel)",
   "language": "python",
   "name": "python3"
  },
  "language_info": {
   "codemirror_mode": {
    "name": "ipython",
    "version": 3
   },
   "file_extension": ".py",
   "mimetype": "text/x-python",
   "name": "python",
   "nbconvert_exporter": "python",
   "pygments_lexer": "ipython3",
   "version": "3.9.12"
  }
 },
 "nbformat": 4,
 "nbformat_minor": 5
}
