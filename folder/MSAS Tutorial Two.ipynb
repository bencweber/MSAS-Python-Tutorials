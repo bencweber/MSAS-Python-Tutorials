{
 "cells": [
  {
   "cell_type": "markdown",
   "id": "dcc8ce6c",
   "metadata": {},
   "source": [
    "# **MSAS Python Tutorial Two**\n",
    "\n",
    "\n",
    "**Welcome to your second tutorial!**"
   ]
  },
  {
   "cell_type": "markdown",
   "id": "8bb329e3",
   "metadata": {},
   "source": [
    "**In this tutorial, we will cover functions, conditionals, loops, and classes**"
   ]
  },
  {
   "cell_type": "markdown",
   "id": "8b95f615",
   "metadata": {},
   "source": [
    "**Functions:**"
   ]
  },
  {
   "cell_type": "markdown",
   "id": "5e08549d",
   "metadata": {},
   "source": [
    "* Functions are self contained modules of code that accomplish a specific task\n",
    "* Functions are created with the keyword \"def\" and returns one variable with keyword \"return\"\n",
    "* After writing a user defined name for your function, remember to add a colon and indent\n",
    "* A colon and indent on next line signifies a new self contained scope  "
   ]
  },
  {
   "cell_type": "code",
   "execution_count": 3,
   "id": "ade729b2",
   "metadata": {},
   "outputs": [],
   "source": [
    "def game_message():\n",
    "    message = 'JJ did not see the field well last weekend, forcing the ball into tight coverage often'\n",
    "    print(message)\n",
    "    return message\n",
    "\n"
   ]
  },
  {
   "cell_type": "markdown",
   "id": "ed0da10a",
   "metadata": {},
   "source": [
    "As you can see from the code above, the function definition does not actually run the code within\n",
    "the function. The function must be called with the user defined name."
   ]
  },
  {
   "cell_type": "markdown",
   "id": "851f96b7",
   "metadata": {},
   "source": [
    "* Functions are most often used with parameters, which are variables that you want the function to preform some action on\n",
    "* Parameter can be of any type, even lists or dictionaries"
   ]
  },
  {
   "cell_type": "code",
   "execution_count": 4,
   "id": "75fbc156",
   "metadata": {},
   "outputs": [
    {
     "data": {
      "text/plain": [
       "27.222222222222225"
      ]
     },
     "execution_count": 4,
     "metadata": {},
     "output_type": "execute_result"
    }
   ],
   "source": [
    "def fahrenheit_to_celsius(temp):\n",
    "    celsius = (temp - 32) * (5/9)\n",
    "    return celsius\n",
    "\n",
    "fahrenheit_to_celsius(81)\n",
    "    "
   ]
  },
  {
   "cell_type": "markdown",
   "id": "1c641bc7",
   "metadata": {},
   "source": [
    "* We can see that since parameters do not have to declare a type, a float could be used too"
   ]
  },
  {
   "cell_type": "code",
   "execution_count": 5,
   "id": "a18625b0",
   "metadata": {},
   "outputs": [
    {
     "data": {
      "text/plain": [
       "10.88888888888889"
      ]
     },
     "execution_count": 5,
     "metadata": {},
     "output_type": "execute_result"
    }
   ],
   "source": [
    "fahrenheit_to_celsius(51.6)"
   ]
  },
  {
   "cell_type": "markdown",
   "id": "e72559f4",
   "metadata": {},
   "source": [
    "* However, a variable of type string or bool would cause an error or bug because of the computation used in the definition"
   ]
  },
  {
   "cell_type": "code",
   "execution_count": 7,
   "id": "b99fc4da",
   "metadata": {},
   "outputs": [],
   "source": [
    "temp_today = '12'\n",
    "\n",
    "# fahrenheit_to_celsius(temp_today)"
   ]
  },
  {
   "cell_type": "markdown",
   "id": "acb36a82",
   "metadata": {},
   "source": [
    "* You cannot enter more variables than you have parameters defined either"
   ]
  },
  {
   "cell_type": "code",
   "execution_count": 9,
   "id": "bbb77289",
   "metadata": {},
   "outputs": [],
   "source": [
    "temp1 = 43\n",
    "temp2 = 97.3\n",
    "\n",
    "# fahrenheit_to_celsius(temp1, temp2)"
   ]
  },
  {
   "cell_type": "markdown",
   "id": "1508c5c7",
   "metadata": {},
   "source": [
    "Why use functions?\n",
    "\n",
    "* Functions reduce repeatability of our code, which makes programming more time efficient, clear, and concise\n",
    "* Functions can be applied directly to an object which can help enhance a dataset very easily"
   ]
  },
  {
   "cell_type": "markdown",
   "id": "e4d9197b",
   "metadata": {},
   "source": [
    "**Lambas**"
   ]
  },
  {
   "cell_type": "markdown",
   "id": "aea891de",
   "metadata": {},
   "source": [
    "* Lambas are small, anonymous functions\n",
    "* Lambas are written in one line of code and usually define a simple process"
   ]
  },
  {
   "cell_type": "code",
   "execution_count": 10,
   "id": "3b2ddd50",
   "metadata": {},
   "outputs": [
    {
     "name": "stdout",
     "output_type": "stream",
     "text": [
      "[3, 1, 7, 2, 5, 3, 2]\n"
     ]
    }
   ],
   "source": [
    "pressures = [3,1,7,2,5,3]\n",
    "x = lambda l, v : l.append(v)\n",
    "\n",
    "x(pressures, 2)\n",
    "print(pressures)"
   ]
  },
  {
   "cell_type": "markdown",
   "id": "b0fed4b2",
   "metadata": {},
   "source": [
    "* Lambas are useful to recognize because they appear often in dataframe analysis"
   ]
  },
  {
   "cell_type": "markdown",
   "id": "a2a78914",
   "metadata": {},
   "source": [
    "**Branching and Condtionals**"
   ]
  },
  {
   "cell_type": "markdown",
   "id": "f0e220bb",
   "metadata": {},
   "source": [
    "* Conditional statements are used in all programming languages to make branches in code\n",
    "* Branching allows the programmer to run certain self contained modules only if a conditional statement is true"
   ]
  },
  {
   "cell_type": "code",
   "execution_count": 11,
   "id": "a102a197",
   "metadata": {},
   "outputs": [
    {
     "name": "stdout",
     "output_type": "stream",
     "text": [
      "cool\n"
     ]
    }
   ],
   "source": [
    "temp_today = fahrenheit_to_celsius(66)\n",
    "\n",
    "if temp_today < 0:\n",
    "    print('freezing')\n",
    "    \n",
    "elif ((temp_today >= 0) & (temp_today < 10)):\n",
    "    print('cold')\n",
    "    \n",
    "elif ((temp_today >= 10) & (temp_today < 20)):\n",
    "    print('cool')\n",
    "    \n",
    "elif ((temp_today >= 20) & (temp_today < 30)):\n",
    "    print('warm')\n",
    "    \n",
    "else:\n",
    "    print('hot')\n",
    "\n",
    "      "
   ]
  },
  {
   "cell_type": "markdown",
   "id": "049fe765",
   "metadata": {},
   "source": [
    "In the example above we saw a few new operators:\n",
    "\n",
    "* Greater than\n",
    "* Less than\n",
    "* Less than or equal to\n",
    "* Greater than or equal to\n",
    "* And\n",
    "\n",
    "There are a few more operators that we should be aware of"
   ]
  },
  {
   "cell_type": "code",
   "execution_count": 12,
   "id": "dd1ff6df",
   "metadata": {},
   "outputs": [
    {
     "name": "stdout",
     "output_type": "stream",
     "text": [
      "Going to need a jacket\n",
      "It is a perfect day for the beach\n"
     ]
    }
   ],
   "source": [
    "weather_today = 'cold'\n",
    "weather_tomorrow = 'hot'\n",
    "\n",
    "if (weather_today == 'cold') | (weather_today == 'freezing'):\n",
    "    print('Going to need a jacket')\n",
    "    \n",
    "else:\n",
    "    print('Enjoy the nice weather!')\n",
    "    \n",
    "\n",
    "if not(weather_tomorrow != 'hot'):\n",
    "    print('It is a perfect day for the beach')"
   ]
  },
  {
   "cell_type": "markdown",
   "id": "2adf7de2",
   "metadata": {},
   "source": [
    "* We will learn that conditionals help subset our data in the next few weeks"
   ]
  },
  {
   "cell_type": "markdown",
   "id": "7a8664fe",
   "metadata": {},
   "source": [
    "**Loops**"
   ]
  },
  {
   "cell_type": "markdown",
   "id": "263f8254",
   "metadata": {},
   "source": [
    "* There are two kinds of loops:\n",
    "* For loops cycle through a self contained module of code until you specify the loop to end\n",
    "* While loops cycle indefinetly until the condition stated when defining the loop is false"
   ]
  },
  {
   "cell_type": "code",
   "execution_count": 13,
   "id": "e466a1a7",
   "metadata": {},
   "outputs": [
    {
     "name": "stdout",
     "output_type": "stream",
     "text": [
      "odd\n",
      "even\n",
      "odd\n",
      "even\n",
      "odd\n",
      "even\n",
      "odd\n",
      "even\n",
      "odd\n",
      "even\n"
     ]
    }
   ],
   "source": [
    "for num in range(1,31,3):\n",
    "    if num % 2 == 0:\n",
    "        print('even')\n",
    "    else:\n",
    "        print('odd')"
   ]
  },
  {
   "cell_type": "markdown",
   "id": "a85dd0fe",
   "metadata": {},
   "source": [
    "* Lists, dictionaries, and tuples are all iterable objects\n",
    "* This means that each index can be accessed with a for loop"
   ]
  },
  {
   "cell_type": "code",
   "execution_count": 14,
   "id": "5ca4d66b",
   "metadata": {},
   "outputs": [
    {
     "data": {
      "text/plain": [
       "[1066, 656, 1804, 1476, 2214, 328, 1886, 1230]"
      ]
     },
     "execution_count": 14,
     "metadata": {},
     "output_type": "execute_result"
    }
   ],
   "source": [
    "ppg = [13,8,22,18,27,4,23,15]\n",
    "\n",
    "def points(List):\n",
    "    games = 82\n",
    "    total_points = []\n",
    "    for item in List:\n",
    "        total_points.append(item * games)\n",
    "    return(total_points)\n",
    "\n",
    "points(ppg)"
   ]
  },
  {
   "cell_type": "code",
   "execution_count": 15,
   "id": "8f543362",
   "metadata": {},
   "outputs": [
    {
     "name": "stdout",
     "output_type": "stream",
     "text": [
      "This guy that scored 27 ppg can really score!\n"
     ]
    }
   ],
   "source": [
    "i = 0\n",
    "while ppg[i] < 25:\n",
    "    i += 1\n",
    "    \n",
    "print(\"This guy that scored \" + str(ppg[i]) + \" ppg can really score!\")"
   ]
  },
  {
   "cell_type": "markdown",
   "id": "74839c58",
   "metadata": {},
   "source": [
    "**The last thing we will cover briefly today is classes**"
   ]
  },
  {
   "cell_type": "markdown",
   "id": "f2c2055f",
   "metadata": {},
   "source": [
    "* Classes are object constructors in python and other languages \n",
    "* Each object in a class has the same attributes and methods"
   ]
  },
  {
   "cell_type": "code",
   "execution_count": 17,
   "id": "9c1f51d5",
   "metadata": {},
   "outputs": [
    {
     "name": "stdout",
     "output_type": "stream",
     "text": [
      "Kirk Cousins\n",
      "Kirk Cousins is an accurate passer\n"
     ]
    }
   ],
   "source": [
    "class Quarterback:\n",
    "    \n",
    "    def __init__(self,name,passing_yards,completion_percentage,touchdowns,ints,qb_rating,wins):\n",
    "        self.name = name\n",
    "        self.passing_yards = passing_yards\n",
    "        self.completion_percentage = completion_percentage\n",
    "        self.touchdowns = touchdowns\n",
    "        self.ints = ints\n",
    "        self.qb_rating = qb_rating\n",
    "        self.wins = wins\n",
    "        \n",
    "    def check_accuracy(self):\n",
    "        if self.completion_percentage > 0.65:\n",
    "            print(self.name + ' is an accurate passer')\n",
    "            \n",
    "qb1 = Quarterback('Kirk Cousins',38898,.669,263,107,98.1,74)\n",
    "print(qb1.name)\n",
    "qb1.check_accuracy()"
   ]
  },
  {
   "cell_type": "markdown",
   "id": "796069e8",
   "metadata": {},
   "source": [
    "* Classes are important to understand because python is an object oriented program\n",
    "* There are countless useful packages that import class types, so understanding how to access attributes and methods of objects is critical "
   ]
  },
  {
   "cell_type": "markdown",
   "id": "54bce7d9",
   "metadata": {},
   "source": [
    "**Thanks for coming, everyone! Feel free to practice your skills during the rest of the hour or ask me any questions!**"
   ]
  }
 ],
 "metadata": {
  "kernelspec": {
   "display_name": "Python 3 (ipykernel)",
   "language": "python",
   "name": "python3"
  },
  "language_info": {
   "codemirror_mode": {
    "name": "ipython",
    "version": 3
   },
   "file_extension": ".py",
   "mimetype": "text/x-python",
   "name": "python",
   "nbconvert_exporter": "python",
   "pygments_lexer": "ipython3",
   "version": "3.9.12"
  }
 },
 "nbformat": 4,
 "nbformat_minor": 5
}
