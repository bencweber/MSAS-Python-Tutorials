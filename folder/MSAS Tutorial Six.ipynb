{
 "cells": [
  {
   "cell_type": "markdown",
   "id": "549f0fae",
   "metadata": {},
   "source": [
    "# MSAS Python Tutorial Six"
   ]
  },
  {
   "cell_type": "markdown",
   "id": "3dc5ca33",
   "metadata": {},
   "source": [
    "Authored by: Ben Weber"
   ]
  },
  {
   "cell_type": "markdown",
   "id": "ae31f21f",
   "metadata": {},
   "source": [
    "Content drawn from professor Chris Brooks at the University of Michigan"
   ]
  },
  {
   "cell_type": "markdown",
   "id": "3c1a940e",
   "metadata": {},
   "source": [
    "**Today we are going to focus on a new library that Python offers, called regex**"
   ]
  },
  {
   "cell_type": "markdown",
   "id": "66aeec33",
   "metadata": {},
   "source": [
    "Before beginning, take a moment to think about the functionality of a library. Why is it important that Python has a wide collection of libraries that can imported into your environment?"
   ]
  },
  {
   "cell_type": "markdown",
   "id": "8ffa024a",
   "metadata": {},
   "source": [
    "**What is regex?**\n",
    "\n",
    "* regex is an important library in Python for data cleaning, and stands for regular expression syntax\n",
    "* The built-in functions that regex offers allows the user to match strings to a given regular expression"
   ]
  },
  {
   "cell_type": "markdown",
   "id": "73ae5425",
   "metadata": {},
   "source": [
    "Why might these functions be so useful to data scientists when cleaning data?"
   ]
  },
  {
   "cell_type": "markdown",
   "id": "1bbbbb68",
   "metadata": {},
   "source": [
    "First, import regex into your environment "
   ]
  },
  {
   "cell_type": "code",
   "execution_count": null,
   "id": "ae5f4311",
   "metadata": {},
   "outputs": [],
   "source": [
    "import regex as re"
   ]
  },
  {
   "cell_type": "code",
   "execution_count": null,
   "id": "1a388eaa",
   "metadata": {},
   "outputs": [],
   "source": [
    "simple_string = \"\"\"Amy is 5 years old, and her sister Mary is 2 years old. \n",
    "    Ruth and Peter, their parents, have 3 kids.\"\"\"\n",
    "\n",
    "result = re.findall(\"[A-Z][a-z]*\", simple_string)\n",
    "print(result)"
   ]
  },
  {
   "cell_type": "markdown",
   "id": "31ffb595",
   "metadata": {},
   "source": [
    "This is a simple example of regex's findall method:\n",
    "\n",
    "* findall takes a user defined regular expression in the first parameter, and a string in the second parameter to match with\n",
    "* findall returns a list of all the matches between the regular expression and the string"
   ]
  },
  {
   "cell_type": "markdown",
   "id": "425e0e24",
   "metadata": {},
   "source": [
    "At this point, you are likely wondering how to actually come up with the regular expression in the parameter. How do we create the right regular expression?\n",
    "\n",
    "* Regular expressions are created with a combination of metacharacters and special sequences\n",
    "* There are far too many to try to explain, but there will be a link at the end of this tutorial to a page that lists many of them with a description\n",
    "* With the regular expression syntax that Python has already defined and can interpret, you can create regular expressions to match just about any sequence in a string or file that you may desire"
   ]
  },
  {
   "cell_type": "markdown",
   "id": "8a24e5de",
   "metadata": {},
   "source": [
    "**It takes practice to figure out how all of the different metacharcters and sequences work! A regex problem is best approached by determining what types of characters in the type of string you desrire to match, and then figuring out the metacharacters and sequences that apply.**"
   ]
  },
  {
   "cell_type": "markdown",
   "id": "05fdfe69",
   "metadata": {},
   "source": [
    "Let's try an example that's a little more involved:\n",
    "\n",
    "* We are going to load in a file with students names and their grades in this format:\n",
    "\n",
    "Ronald Mayr: A\n",
    "\n",
    "* We want to return a list of the names of the students that earned B's"
   ]
  },
  {
   "cell_type": "code",
   "execution_count": null,
   "id": "8ecd0399",
   "metadata": {},
   "outputs": [],
   "source": [
    "grades = open(\"grades.txt\", \"r\")\n",
    "sg = grades.read()\n",
    "B_students = re.findall(\"[A-Za-z]{3,20}[\\s][A-Za-z]{3,20}[:][\\s][B]\", sg)\n",
    "for number, item in enumerate(B_students):\n",
    "    l = len(item)\n",
    "    new_string = \"\"\n",
    "    for num in range(l):\n",
    "        if num < l-3:\n",
    "            new_string += item[num]\n",
    "    B_students[number] = new_string\n",
    "print(B_students)\n",
    "grades.close()"
   ]
  },
  {
   "cell_type": "markdown",
   "id": "6d494159",
   "metadata": {},
   "source": [
    "**Explanation:**\n",
    "\n",
    "* Open file using the open function and read the file object with the read() method to a new variable\n",
    "* Use the findall method to return a list of the students that earned a B\n",
    "* However, we only want to return the names of the students, so we can use a nested for loop to accomplish this\n",
    "* Closing the file object when you are done is always good practice\n",
    "\n",
    "**Is there a way that we could reduce code by using findall again instead of the nested for loop?**"
   ]
  },
  {
   "cell_type": "markdown",
   "id": "054ecd29",
   "metadata": {},
   "source": [
    "**Using regex on a dataframe:**\n",
    "\n",
    "* When cleaning data in a dataframe, you may want to change how the data looks for better understanding \n",
    "* This is where regex comes into play, using a method in pandas called replace()\n"
   ]
  },
  {
   "cell_type": "code",
   "execution_count": null,
   "id": "9308c8b2",
   "metadata": {},
   "outputs": [],
   "source": [
    "import pandas as pd"
   ]
  },
  {
   "cell_type": "code",
   "execution_count": null,
   "id": "399d18d0",
   "metadata": {},
   "outputs": [],
   "source": [
    "pbp = pd.read_csv(\"UofM 2022 pbp\")"
   ]
  },
  {
   "cell_type": "markdown",
   "id": "cf786fa8",
   "metadata": {},
   "source": [
    "Let's say we want to change the format of the season column so that it says 2022 instead of 2022/2023:\n",
    "\n",
    "* We can think of a regex that will allow us to accomplish this"
   ]
  },
  {
   "cell_type": "code",
   "execution_count": null,
   "id": "97cf55ba",
   "metadata": {},
   "outputs": [],
   "source": [
    "pbp['season'].replace(to_replace = '/2023', value = '', regex = True, inplace = True)\n",
    "pbp['season']"
   ]
  },
  {
   "cell_type": "markdown",
   "id": "88851eba",
   "metadata": {},
   "source": [
    "Look at the dataframe to see if there is any formating that you would want to change and then give it a try with regex!"
   ]
  },
  {
   "cell_type": "markdown",
   "id": "67464d95",
   "metadata": {},
   "source": [
    "**Here is a source that shares some other helpful functions that regex offers and a list of uesful metacharcters and sequences to know:** "
   ]
  },
  {
   "cell_type": "markdown",
   "id": "0d61514a",
   "metadata": {},
   "source": [
    "https://www.w3schools.com/python/python_regex.asp"
   ]
  },
  {
   "cell_type": "markdown",
   "id": "8a4b6867",
   "metadata": {},
   "source": [
    "**Remember, you do not need to memorize all these things to be capable of using regex. If you understand the concepts, you can use online resources very easily to remind yourself how to address a wide range of problems when data cleaning!**"
   ]
  },
  {
   "cell_type": "markdown",
   "id": "e3d88450",
   "metadata": {},
   "source": [
    "**That's all for this tutorial!**"
   ]
  }
 ],
 "metadata": {
  "kernelspec": {
   "display_name": "Python 3 (ipykernel)",
   "language": "python",
   "name": "python3"
  },
  "language_info": {
   "codemirror_mode": {
    "name": "ipython",
    "version": 3
   },
   "file_extension": ".py",
   "mimetype": "text/x-python",
   "name": "python",
   "nbconvert_exporter": "python",
   "pygments_lexer": "ipython3",
   "version": "3.9.12"
  }
 },
 "nbformat": 4,
 "nbformat_minor": 5
}
