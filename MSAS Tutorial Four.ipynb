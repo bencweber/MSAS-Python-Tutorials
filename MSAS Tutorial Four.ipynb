{
 "cells": [
  {
   "cell_type": "markdown",
   "id": "a28675f3",
   "metadata": {},
   "source": [
    "# MSAS Python Tutorial Four "
   ]
  },
  {
   "cell_type": "markdown",
   "id": "7b6f6f0d",
   "metadata": {},
   "source": [
    "**Welcome back everyone! We are going to take the first part of the hour to try to ensure that everyone is able to install pandas successfully**"
   ]
  },
  {
   "cell_type": "markdown",
   "id": "19f49f3c",
   "metadata": {},
   "source": [
    "-"
   ]
  },
  {
   "cell_type": "markdown",
   "id": "1262a778",
   "metadata": {},
   "source": [
    "**Quiz Time!**\n",
    "\n",
    "\n"
   ]
  },
  {
   "cell_type": "markdown",
   "id": "0e4f6036",
   "metadata": {},
   "source": [
    "-"
   ]
  },
  {
   "cell_type": "markdown",
   "id": "f2dc920f",
   "metadata": {},
   "source": [
    "**Let's see how much we remember about dataframe attributes, methods, subsetting, and splicing**"
   ]
  },
  {
   "cell_type": "code",
   "execution_count": null,
   "id": "76bedece",
   "metadata": {},
   "outputs": [],
   "source": [
    "import pandas as pd\n",
    "import numpy as np"
   ]
  },
  {
   "cell_type": "markdown",
   "id": "c181667e",
   "metadata": {},
   "source": [
    "1. What function in the pandas library will import a CSV into a dataframe?"
   ]
  },
  {
   "cell_type": "code",
   "execution_count": null,
   "id": "1663c358",
   "metadata": {},
   "outputs": [],
   "source": [
    "df = pd.read_csv('StatsBomb Michigan 2022 Plays.csv', index_col = 'week')\n",
    "df.head()"
   ]
  },
  {
   "cell_type": "markdown",
   "id": "5dc7d9c0",
   "metadata": {},
   "source": [
    "2. How can we observe the number of rows and columns in our dataframe? Is this an attribute or method?"
   ]
  },
  {
   "cell_type": "code",
   "execution_count": null,
   "id": "308d1ca4",
   "metadata": {},
   "outputs": [],
   "source": [
    "df.shape"
   ]
  },
  {
   "cell_type": "markdown",
   "id": "7a2954a7",
   "metadata": {},
   "source": [
    "3. How can we find the variable type for each column in our dataframe?"
   ]
  },
  {
   "cell_type": "code",
   "execution_count": null,
   "id": "fee66384",
   "metadata": {},
   "outputs": [],
   "source": [
    "df.dtypes"
   ]
  },
  {
   "cell_type": "markdown",
   "id": "1c33d96f",
   "metadata": {},
   "source": [
    "4. How can we view high level statistics from our dataframe?"
   ]
  },
  {
   "cell_type": "code",
   "execution_count": null,
   "id": "6caa98a3",
   "metadata": {},
   "outputs": [],
   "source": [
    "df.describe()"
   ]
  },
  {
   "cell_type": "markdown",
   "id": "77ac3ddf",
   "metadata": {},
   "source": [
    "5. How can we view a quick snapshot of what our dataframe looks like?"
   ]
  },
  {
   "cell_type": "code",
   "execution_count": null,
   "id": "f047d495",
   "metadata": {},
   "outputs": [],
   "source": [
    "df.head()"
   ]
  },
  {
   "cell_type": "markdown",
   "id": "ca2789a8",
   "metadata": {},
   "source": [
    "6. What if we are only interested in week five and want to compare box players with simulated pressure. How could we manipulate our dataframe to reflect this?"
   ]
  },
  {
   "cell_type": "code",
   "execution_count": null,
   "id": "3a3fdd1a",
   "metadata": {},
   "outputs": [],
   "source": [
    "df = df.loc['Week 5',['play_box_players', 'play_simulated_pressure']]\n",
    "df.head(20)"
   ]
  },
  {
   "cell_type": "markdown",
   "id": "7d828e4f",
   "metadata": {},
   "source": [
    "7. Question from the end of last week: \n",
    "* Try this subsetting problem on your own. Let's say that you only want to investigate plays when Michigan is running a two minute offense, how could you do that?\n",
    "\n",
    "* Hint: Look at the CSV directory to observe which columns you will need to use in your boolean mask\n",
    "\n",
    "* Hint: 120 seconds is equal to 120,000 milliseconds"
   ]
  },
  {
   "cell_type": "code",
   "execution_count": null,
   "id": "7e06c32f",
   "metadata": {},
   "outputs": [],
   "source": [
    "df = pd.read_csv('StatsBomb Michigan 2022 Plays.csv', index_col = 'week')"
   ]
  },
  {
   "cell_type": "code",
   "execution_count": null,
   "id": "2bfecf9d",
   "metadata": {},
   "outputs": [],
   "source": [
    "df = df[df['offense_team_name'] == 'Michigan Wolverines']"
   ]
  },
  {
   "cell_type": "code",
   "execution_count": null,
   "id": "6dcbd0fd",
   "metadata": {},
   "outputs": [],
   "source": [
    "df = df[df['play_quarter_clock_remaining'] <= 120000]"
   ]
  },
  {
   "cell_type": "code",
   "execution_count": null,
   "id": "8645ea30",
   "metadata": {},
   "outputs": [],
   "source": [
    "df = df[(df['play_quarter'] == 2) | (df['play_quarter'] == 4)]"
   ]
  },
  {
   "cell_type": "code",
   "execution_count": null,
   "id": "3d84baeb",
   "metadata": {},
   "outputs": [],
   "source": [
    "df.head(25)"
   ]
  },
  {
   "cell_type": "markdown",
   "id": "807690c7",
   "metadata": {},
   "source": [
    "**Now that we have recalled some of the skills introduced from the previous lecture, take some time to practice these skills on your own!**"
   ]
  },
  {
   "cell_type": "markdown",
   "id": "af1c3796",
   "metadata": {},
   "source": [
    "* Remember to utilize the knowledge of your peers and the plethora of documentation online if you get stuck"
   ]
  },
  {
   "cell_type": "markdown",
   "id": "c0fdaca2",
   "metadata": {},
   "source": [
    "1. You are interested in investigating the relationship between punt hangtime and yards returned. Manipulate the dataframe to reflect this. Consider the fact you only want data entries that were actually punt plays. Also feel free to consider there may be more factors that you might want to consider when investigating punting."
   ]
  },
  {
   "cell_type": "code",
   "execution_count": null,
   "id": "13d9caa5",
   "metadata": {},
   "outputs": [],
   "source": []
  },
  {
   "cell_type": "markdown",
   "id": "76db8107",
   "metadata": {},
   "source": [
    "2. You are interested in investigating whether a play being a designed pass has an effect on the receiver separation of Michigan's targeted receiver. However, you know that Michigan plays boarderline high school squads in the first three weeks, so you want eliminate that data from the distribution. Remember that you only want passing plays. Manipulate the dataframe to reflect this."
   ]
  },
  {
   "cell_type": "code",
   "execution_count": null,
   "id": "5083c8bc",
   "metadata": {},
   "outputs": [],
   "source": []
  },
  {
   "cell_type": "markdown",
   "id": "98d91d4d",
   "metadata": {},
   "source": [
    "3. Challenge: You are interested in investigating the performance of Michigan's offensive lineman in the run game. Let's say you want view the data in terms of the run gap the rusher ran into on a given rushing play. You will need to use the drop method, which removes rows from the dataframe. Manipulate the dataframe to reflect this. Once you have done this, think about how you could further splice or subset the dataframe to investigate relevant statistics to run gap."
   ]
  },
  {
   "cell_type": "code",
   "execution_count": null,
   "id": "9ec3827e",
   "metadata": {},
   "outputs": [],
   "source": []
  },
  {
   "cell_type": "markdown",
   "id": "a5e69767",
   "metadata": {},
   "source": [
    "**Before we finish up, we will go over making new columns in a dataframe**"
   ]
  },
  {
   "cell_type": "markdown",
   "id": "b40d2303",
   "metadata": {},
   "source": [
    "Let's say that we determine a punt with gross yards (yards traveled before the start of the punt return) over 45 is a good punt. How would we create a new column to distinguish this for the viewer?"
   ]
  },
  {
   "cell_type": "code",
   "execution_count": null,
   "id": "6be3ddf7",
   "metadata": {},
   "outputs": [],
   "source": [
    "df = pd.read_csv('StatsBomb Michigan 2022 Plays.csv', index_col = 'week')"
   ]
  },
  {
   "cell_type": "code",
   "execution_count": null,
   "id": "66ef3371",
   "metadata": {},
   "outputs": [],
   "source": [
    "df['play_good_punt'] = (df['play_gross_punt_yards'] >= 45)"
   ]
  },
  {
   "cell_type": "code",
   "execution_count": null,
   "id": "1c8dc906",
   "metadata": {},
   "outputs": [],
   "source": [
    "df['time_seconds'] = df['play_quarter_clock_remaining'] / 1000"
   ]
  },
  {
   "cell_type": "code",
   "execution_count": null,
   "id": "a649f520",
   "metadata": {},
   "outputs": [],
   "source": [
    "df.dtypes"
   ]
  },
  {
   "cell_type": "markdown",
   "id": "e2361f96",
   "metadata": {},
   "source": [
    "* Notice that you can easily create a new column which automatically adds itself to the end of your dataframe\n",
    "* Since python is an object oriented programming language, python will calculate the desired operation on each entry of the column"
   ]
  },
  {
   "cell_type": "markdown",
   "id": "e284c942",
   "metadata": {},
   "source": [
    "**Thanks for coming, try to experiment with creating new columns that would be helpful in this dataframe!**"
   ]
  }
 ],
 "metadata": {
  "kernelspec": {
   "display_name": "Python 3 (ipykernel)",
   "language": "python",
   "name": "python3"
  },
  "language_info": {
   "codemirror_mode": {
    "name": "ipython",
    "version": 3
   },
   "file_extension": ".py",
   "mimetype": "text/x-python",
   "name": "python",
   "nbconvert_exporter": "python",
   "pygments_lexer": "ipython3",
   "version": "3.9.12"
  }
 },
 "nbformat": 4,
 "nbformat_minor": 5
}
