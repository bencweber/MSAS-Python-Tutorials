{
 "cells": [
  {
   "cell_type": "markdown",
   "id": "0b280dcb",
   "metadata": {},
   "source": [
    "# MSAS Python Tutorial Five"
   ]
  },
  {
   "cell_type": "markdown",
   "id": "7e84c005",
   "metadata": {},
   "source": [
    "**In this tutorial, we will go over two more important methods when using Pandas for data analysis**"
   ]
  },
  {
   "cell_type": "markdown",
   "id": "8d5e573e",
   "metadata": {},
   "source": [
    "First, take a minute to remind yourself what a method is"
   ]
  },
  {
   "cell_type": "markdown",
   "id": "b5b565d7",
   "metadata": {},
   "source": [
    "**Pandas Merge**"
   ]
  },
  {
   "cell_type": "markdown",
   "id": "cf1b12f6",
   "metadata": {},
   "source": [
    "The merge method is an essential component of the pandas library because it allows the user to combine to relevant datasets together very easily"
   ]
  },
  {
   "cell_type": "markdown",
   "id": "c074256c",
   "metadata": {},
   "source": [
    "What are some reasons that combining CSV files would be useful?"
   ]
  },
  {
   "cell_type": "markdown",
   "id": "7ca5c112",
   "metadata": {},
   "source": [
    "One example would be that you receive new columns that correspond to the rows in a dataset you already have:\n",
    "\n",
    "* We received new epa data from statsbomb to help make more insightful analysis"
   ]
  },
  {
   "cell_type": "code",
   "execution_count": null,
   "id": "09944b1f",
   "metadata": {},
   "outputs": [],
   "source": [
    "import pandas as pd\n",
    "import numpy as np"
   ]
  },
  {
   "cell_type": "code",
   "execution_count": null,
   "id": "88aa9512",
   "metadata": {},
   "outputs": [],
   "source": [
    "epa = pd.read_csv('Michigan 2022 EPA Data.csv')\n",
    "pbp = pd.read_csv('StatsBomb Michigan 2022 Plays.csv')"
   ]
  },
  {
   "cell_type": "code",
   "execution_count": null,
   "id": "389a6e27",
   "metadata": {},
   "outputs": [],
   "source": [
    "pbp = pbp.merge(epa, on='play_uuid')"
   ]
  },
  {
   "cell_type": "code",
   "execution_count": null,
   "id": "382099a6",
   "metadata": {},
   "outputs": [],
   "source": [
    "pbp.columns"
   ]
  },
  {
   "cell_type": "markdown",
   "id": "4f563178",
   "metadata": {},
   "source": [
    "What's going on here?\n",
    "\n",
    "* Both dataframes have the same play IDs, so we can use the \"on\" parameter to tell Python that it should append each entry of the epa dataframe to its corresponding row in the pbp dataframe\n",
    "* The merge method also has the \"how\" parameter, which can be used to tell Python which rows to include in the merged dataframe"
   ]
  },
  {
   "cell_type": "markdown",
   "id": "aa74805d",
   "metadata": {},
   "source": [
    "**The \"how\" parameter can be set to inner, outer, right, or left join. Try to think about what each would do**"
   ]
  },
  {
   "cell_type": "markdown",
   "id": "c35e90bc",
   "metadata": {},
   "source": [
    "* The parameter is inner by default, which will only transfer keys in each dataframe that **intersect**\n",
    "* Conversely, an outer join will use all the keys from both dataframes to merge, regardless of whether they intersect\n",
    "* The right join will only join on keys from the right dataframe, leaving out all those only on in the left\n",
    "* The left join does the same as the right, but opposite"
   ]
  },
  {
   "cell_type": "code",
   "execution_count": null,
   "id": "2272e9bb",
   "metadata": {},
   "outputs": [],
   "source": [
    "wrs = pd.DataFrame([{'Name':'Justin Jefferson', 'Receiving Yards': 1726},\n",
    "                   {'Name':'Christian McCaffery','Receiving Yards': 864},\n",
    "                   {'Name':'Alvin Kamara','Receiving Yards':689}])\n",
    "\n",
    "rbs = pd.DataFrame([{'Name':'Christian McCaffery','Rushing Yards':1028},\n",
    "                   {'Name':'Derrick Henry','Rushing Yards':1563},\n",
    "                   {'Name':'Alvin Kamara','Rushing Yards':945}])"
   ]
  },
  {
   "cell_type": "code",
   "execution_count": null,
   "id": "20a97b0e",
   "metadata": {},
   "outputs": [],
   "source": [
    "#wrs.set_index('Name', inplace = True)\n",
    "#rbs.set_index('Name', inplace = True)\n",
    "rbs.head()"
   ]
  },
  {
   "cell_type": "code",
   "execution_count": null,
   "id": "78dd10ab",
   "metadata": {},
   "outputs": [],
   "source": [
    "combined = pd.merge(wrs, rbs, how='right', right_index = True, left_index = True)"
   ]
  },
  {
   "cell_type": "code",
   "execution_count": null,
   "id": "2ce25083",
   "metadata": {},
   "outputs": [],
   "source": [
    "combined.head()"
   ]
  },
  {
   "cell_type": "markdown",
   "id": "8012aeb8",
   "metadata": {},
   "source": [
    "**Pandas Groupby**"
   ]
  },
  {
   "cell_type": "markdown",
   "id": "a0e92125",
   "metadata": {},
   "source": [
    "* The groupby method allows the user to subset the data into smaller groups to easily perform desired computations\n",
    "* Returns a tuple for each group. The first entry in the tuple is the name of the group and the second is a reference to the dataframe you are apply the groupby method"
   ]
  },
  {
   "cell_type": "markdown",
   "id": "29e08e76",
   "metadata": {},
   "source": [
    "Let's say I want to determine the efficiency of Michigan's offense against different defensive personnel, and I want to know how many plays they faced each personnel package:"
   ]
  },
  {
   "cell_type": "code",
   "execution_count": null,
   "id": "e9dbd874",
   "metadata": {},
   "outputs": [],
   "source": [
    "pbp = pbp[pbp['offense_team_name'] == 'Michigan Wolverines']\n",
    "pbp = pbp[pbp['play_scrimmage_epa'].notna()]\n",
    "pbp = pbp[(pbp['play_pass_yards_air'].notna()) | (pbp['play_yards_run'].notna())]"
   ]
  },
  {
   "cell_type": "markdown",
   "id": "e200a655",
   "metadata": {},
   "source": [
    "First we subset our data to only look at plays when Michigan is on offense and not punting"
   ]
  },
  {
   "cell_type": "markdown",
   "id": "96de52f6",
   "metadata": {},
   "source": [
    "Now we can use a for loop to iterate through the groups we create with the groupby method:"
   ]
  },
  {
   "cell_type": "code",
   "execution_count": null,
   "id": "fb773aa8",
   "metadata": {},
   "outputs": [],
   "source": [
    "form_all = {}\n",
    "\n",
    "for group, frame in pbp.groupby('play_defensive_personnel'):\n",
    "    avg = round(np.average(frame['play_scrimmage_epa']),4)\n",
    "    num_plays = len(frame)\n",
    "    form_all[group] = [avg, num_plays]"
   ]
  },
  {
   "cell_type": "code",
   "execution_count": null,
   "id": "4d799a97",
   "metadata": {},
   "outputs": [],
   "source": [
    "form_all"
   ]
  },
  {
   "cell_type": "markdown",
   "id": "9a22dbb5",
   "metadata": {},
   "source": [
    "* We created an empty dictionary to store the average epa and number of plays against each defensive personnel\n",
    "* We use the round and numpy average functions to create a variable with the average epa against the defensive personnel\n",
    "* We use the len function to determine the number of rows that are returned in the dataframe in each group, which represents the number of plays"
   ]
  },
  {
   "cell_type": "markdown",
   "id": "f78706ff",
   "metadata": {},
   "source": [
    "Now, see if you can further subset the data to investigate all rushing plays against different personnel groups and all passing plays"
   ]
  },
  {
   "cell_type": "code",
   "execution_count": null,
   "id": "32013795",
   "metadata": {},
   "outputs": [],
   "source": []
  },
  {
   "cell_type": "markdown",
   "id": "4205face",
   "metadata": {},
   "source": [
    "**Thanks for coming!**"
   ]
  }
 ],
 "metadata": {
  "kernelspec": {
   "display_name": "Python 3 (ipykernel)",
   "language": "python",
   "name": "python3"
  },
  "language_info": {
   "codemirror_mode": {
    "name": "ipython",
    "version": 3
   },
   "file_extension": ".py",
   "mimetype": "text/x-python",
   "name": "python",
   "nbconvert_exporter": "python",
   "pygments_lexer": "ipython3",
   "version": "3.9.12"
  }
 },
 "nbformat": 4,
 "nbformat_minor": 5
}
