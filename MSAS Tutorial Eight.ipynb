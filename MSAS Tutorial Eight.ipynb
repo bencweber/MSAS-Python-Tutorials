{
 "cells": [
  {
   "cell_type": "markdown",
   "id": "366e4e16",
   "metadata": {},
   "source": [
    "# MSAS Tutorial Eight"
   ]
  },
  {
   "cell_type": "markdown",
   "id": "ce89cb84",
   "metadata": {},
   "source": [
    "**This tutorial will cover Pandas idioms and Goodhart's law**"
   ]
  },
  {
   "cell_type": "markdown",
   "id": "597c7385",
   "metadata": {},
   "source": [
    "**Written by: Ben Weber**"
   ]
  },
  {
   "cell_type": "markdown",
   "id": "5f330418",
   "metadata": {},
   "source": [
    "**Ideas drawn from Professor Chris Brooks**"
   ]
  },
  {
   "cell_type": "markdown",
   "id": "058c4f9b",
   "metadata": {},
   "source": [
    "**Pandas Idioms**"
   ]
  },
  {
   "cell_type": "markdown",
   "id": "b0ecb853",
   "metadata": {},
   "source": [
    "* We have a little bit about how there are many different ways write code that accomplishes the same task\n",
    "* However, some are more appropriate than others, these are called idiomatic solutions"
   ]
  },
  {
   "cell_type": "markdown",
   "id": "0cb45b89",
   "metadata": {},
   "source": [
    "Can you think of any reasons why some solutions could be more appropriate than others?"
   ]
  },
  {
   "cell_type": "markdown",
   "id": "087fd490",
   "metadata": {},
   "source": [
    "**Functionality:**\n",
    "* Code performs better \n",
    "* This means that runtimes are faster with certain solutions\n",
    "* May not be important with smaller amounts of data, but could be significant in large datasets, files, or webpages"
   ]
  },
  {
   "cell_type": "markdown",
   "id": "1d047b51",
   "metadata": {},
   "source": [
    "**Style/Readability:**\n",
    "* Code could be made more succinct\n",
    "* Code could be easier to read\n",
    "* Code could be easier to understand conceptually "
   ]
  },
  {
   "cell_type": "code",
   "execution_count": null,
   "id": "f2735c80",
   "metadata": {},
   "outputs": [],
   "source": [
    "# Bring in your usual libraries, with the addition of the timeit module (Use import keyword)\n",
    "\n",
    "import pandas as pd\n",
    "import numpy as np\n",
    "\n",
    "import timeit"
   ]
  },
  {
   "cell_type": "markdown",
   "id": "b6e1490f",
   "metadata": {},
   "source": [
    "We will use timeit to test the functionaility of different coding solutions"
   ]
  },
  {
   "cell_type": "code",
   "execution_count": null,
   "id": "224a5099",
   "metadata": {},
   "outputs": [],
   "source": [
    "# Load in our usual df:\n",
    "\n",
    "pbp = pd.read_csv(\"UofM 2022 pbp\")"
   ]
  },
  {
   "cell_type": "markdown",
   "id": "1c83323e",
   "metadata": {},
   "source": [
    "**Method Chaining**"
   ]
  },
  {
   "cell_type": "markdown",
   "id": "2e37acb5",
   "metadata": {},
   "source": [
    "* We have talked a lot about methods now, method chaining is simply attatching a bunch of methods in a single script of code\n",
    "* This works because a method returns the object it was applied to\n",
    "* Therefore it follows that we should be able to continually attach methods without error, as they are all being applied to an object"
   ]
  },
  {
   "cell_type": "markdown",
   "id": "f426c420",
   "metadata": {},
   "source": [
    "To get a good idea of what is going on, we will look at an example from a previous tutorial:"
   ]
  },
  {
   "cell_type": "markdown",
   "id": "ef28d92f",
   "metadata": {},
   "source": [
    "Here is the **non**-idiomatic way of writing this code:"
   ]
  },
  {
   "cell_type": "code",
   "execution_count": null,
   "id": "4f8baaf0",
   "metadata": {},
   "outputs": [],
   "source": [
    "pbp = pbp.loc[:,['defense_team_name','play_pass_placement_displacement']]\n",
    "\n",
    "pbp = pbp[pbp['defense_team_name'] == 'Ohio State Buckeyes']\n",
    "\n",
    "pbp.sort_values(by='play_pass_placement_displacement',ascending=False,inplace=True)\n",
    "\n",
    "pbp.set_index('defense_team_name',inplace=True)"
   ]
  },
  {
   "cell_type": "code",
   "execution_count": null,
   "id": "819a2f9f",
   "metadata": {},
   "outputs": [],
   "source": [
    "pbp.head()"
   ]
  },
  {
   "cell_type": "markdown",
   "id": "d55d3936",
   "metadata": {},
   "source": [
    "We can see that this works just fine and is probably useful for understanding exactly what is happening line by line, however, with method chaining, it could be much more succinct"
   ]
  },
  {
   "cell_type": "markdown",
   "id": "750d60f5",
   "metadata": {},
   "source": [
    "Here is a more idiomatic way to right the code:"
   ]
  },
  {
   "cell_type": "code",
   "execution_count": null,
   "id": "ee1e4368",
   "metadata": {},
   "outputs": [],
   "source": [
    "pbp = pd.read_csv('UofM 2022 pbp')"
   ]
  },
  {
   "cell_type": "code",
   "execution_count": null,
   "id": "4af68f51",
   "metadata": {},
   "outputs": [],
   "source": [
    "(pbp.filter(items=['defense_team_name','play_pass_placement_displacement'], axis=1)\n",
    "    .sort_values(by='play_pass_placement_displacement',ascending=False)\n",
    "    .set_index('defense_team_name')\n",
    "    .filter(like='Ohio', axis=0)\n",
    "    .head())"
   ]
  },
  {
   "cell_type": "markdown",
   "id": "8c874c9b",
   "metadata": {},
   "source": [
    "As you can see, method chaining allowed us to accomplsih the same task while writing less code"
   ]
  },
  {
   "cell_type": "markdown",
   "id": "e40053f1",
   "metadata": {},
   "source": [
    "But which is faster? We can use timeit to check:"
   ]
  },
  {
   "cell_type": "code",
   "execution_count": null,
   "id": "f1f0d057",
   "metadata": {},
   "outputs": [],
   "source": [
    "def approach_one():\n",
    "    global pbp\n",
    "    new_pbp = pbp.loc[:,['defense_team_name','play_pass_placement_displacement']]\n",
    "    new_pbp = pbp[pbp['defense_team_name'] == 'Ohio State Buckeyes']\n",
    "    new_pbp.sort_values(by='play_pass_placement_displacement',ascending=False,inplace=True)\n",
    "    return new_pbp.set_index('defense_team_name',inplace=True)\n",
    "\n",
    "pbp = pd.read_csv('UofM 2022 pbp')"
   ]
  },
  {
   "cell_type": "code",
   "execution_count": null,
   "id": "bb4aa3a0",
   "metadata": {},
   "outputs": [],
   "source": [
    "timeit.timeit(approach_one, number = 25)"
   ]
  },
  {
   "cell_type": "code",
   "execution_count": null,
   "id": "1c3e2f0d",
   "metadata": {},
   "outputs": [],
   "source": [
    "def approach_two():\n",
    "    global pbp\n",
    "    \n",
    "    return (pbp.filter(items=['defense_team_name','play_pass_placement_displacement'], axis=1)\n",
    "    .sort_values(by='play_pass_placement_displacement',ascending=False)\n",
    "    .set_index('defense_team_name')\n",
    "    .filter(like='Ohio', axis=0)\n",
    "    .head())\n",
    "\n",
    "pbp = pd.read_csv('UofM 2022 pbp')"
   ]
  },
  {
   "cell_type": "code",
   "execution_count": null,
   "id": "b19317db",
   "metadata": {},
   "outputs": [],
   "source": [
    "timeit.timeit(approach_two, number=25)"
   ]
  },
  {
   "cell_type": "markdown",
   "id": "0b339738",
   "metadata": {},
   "source": [
    "In this case, method chaining was more functional than not, but this will not always be the case"
   ]
  },
  {
   "cell_type": "markdown",
   "id": "71362203",
   "metadata": {},
   "source": [
    "**The big takeway is that idiomatic code could change based on the situation, and for larger projects you might have to test which methods are most idiomatic**"
   ]
  },
  {
   "cell_type": "markdown",
   "id": "c2853f2f",
   "metadata": {},
   "source": [
    "**Also important:**\n",
    "* The code solution you decide is most idiomatic can change based on the goal of your code\n",
    "* Think about which factors are most important in each specific situation, there is not a general rule"
   ]
  },
  {
   "cell_type": "markdown",
   "id": "ff3d13da",
   "metadata": {},
   "source": [
    "**Apply method:**"
   ]
  },
  {
   "cell_type": "markdown",
   "id": "7f23032f",
   "metadata": {},
   "source": [
    "* This method is another pandas idiom, and since it came up in the last tutorial we will go over it again here\n",
    "* Apply takes a function as a parameter, and if you attach to a vector, this is all you need to know\n",
    "* If you are using apply on a dataframe, you will have to specify which axis you want to apply the function to"
   ]
  },
  {
   "cell_type": "markdown",
   "id": "df800e81",
   "metadata": {},
   "source": [
    "**Be careful when choosing an axis, becasue choosing columns will apply you function to each row, and vice versa**"
   ]
  },
  {
   "cell_type": "code",
   "execution_count": null,
   "id": "e5b01860",
   "metadata": {},
   "outputs": [],
   "source": [
    "pbp = pd.read_csv('UofM 2022 pbp')\n",
    "\n",
    "def play_quality_func(EPA):\n",
    "    if (EPA < -.5):\n",
    "        return 'abysmal'\n",
    "    elif ((EPA >= -.5) & (EPA < -.1)):\n",
    "        return 'bad'\n",
    "    elif ((EPA >= -.1) & (EPA < .05)):\n",
    "        return 'decent'\n",
    "    elif ((EPA >= .05) & (EPA < .5)):\n",
    "        return 'good'\n",
    "    else:\n",
    "        return 'phenominal'\n",
    "\n",
    "pbp['play_quality_epa'] = pbp['play_scrimmage_epa'].apply(lambda x: play_quality_func(x))\n",
    "pbp['play_quality_epa']"
   ]
  },
  {
   "cell_type": "markdown",
   "id": "ac5fffbe",
   "metadata": {},
   "source": [
    "**The apply method is a good example of vectorization being far more idiomatic than iteration**"
   ]
  },
  {
   "cell_type": "markdown",
   "id": "57aca2d1",
   "metadata": {},
   "source": [
    "**Goodhart's Law:**"
   ]
  },
  {
   "cell_type": "markdown",
   "id": "8aa74e2d",
   "metadata": {},
   "source": [
    "Similary to the discussion around scales in tutorial seven, Goodhart's law is important to be aware of in data analysis"
   ]
  },
  {
   "cell_type": "markdown",
   "id": "c8f542f3",
   "metadata": {},
   "source": [
    "When we analyze data, we are basically making infrences and suggestions based on the data we observe, whether these conclusions are backed with statistical methods or not"
   ]
  },
  {
   "cell_type": "markdown",
   "id": "de3db078",
   "metadata": {},
   "source": [
    "**However, it is important to remember that these conclusions are just based on observations, not experiments**"
   ]
  },
  {
   "cell_type": "markdown",
   "id": "035b4a31",
   "metadata": {},
   "source": [
    "Therefore, we find measures of correlation, not causation"
   ]
  },
  {
   "cell_type": "markdown",
   "id": "5d2f9f7a",
   "metadata": {},
   "source": [
    "* **Goodhart's law states that once a measure becomes a target, it ceases to be a good measure**"
   ]
  },
  {
   "cell_type": "markdown",
   "id": "1d0e03cc",
   "metadata": {},
   "source": [
    "What does this mean?"
   ]
  },
  {
   "cell_type": "markdown",
   "id": "a5d78818",
   "metadata": {},
   "source": [
    "* If we think about it in terms of correlation vs. causation, it would be like assuming casuation for two correlated variables\n",
    "* This has led to a variety of statistical blunders throughout history, but can easily be avoided by understanding the difference"
   ]
  },
  {
   "cell_type": "markdown",
   "id": "7f10f687",
   "metadata": {},
   "source": [
    "In sports analytics, it can lead to coaching errors due to poor strategy, for example, the Vikings and Randy Moss:"
   ]
  },
  {
   "cell_type": "markdown",
   "id": "d1860409",
   "metadata": {},
   "source": [
    "Back when Randy Moss was a Viking, somebody noticed the Vikings won a large percentage of their games when Randy Moss caught a certain number of passes. The coach, ignoring that this was just a measure of correlation, developed an offense designed to force feed Moss the ball. Unsurprisingly, the strategy did not work. The Vikings' offense was poor and they were losing games. This was a lessom for coaches around the league that the offenses operate best when a quarterback can go through his progressions naturally to find the open receiver."
   ]
  },
  {
   "cell_type": "markdown",
   "id": "a6d2bc1c",
   "metadata": {},
   "source": [
    "**As you can see, the Vikings made the measure of winning more when Randy Moss had a good game a target, and the measure became obviously poor when they started losing games due to a stale offense**"
   ]
  },
  {
   "cell_type": "markdown",
   "id": "da4ec543",
   "metadata": {},
   "source": [
    "That's all for this tutorial, if you want to learn more about Goodhart's law and its applications, visit this article/podcast:\n",
    "\n",
    "https://dataskeptic.com/blog/episodes/2016/goodharts-law"
   ]
  }
 ],
 "metadata": {
  "kernelspec": {
   "display_name": "Python 3 (ipykernel)",
   "language": "python",
   "name": "python3"
  },
  "language_info": {
   "codemirror_mode": {
    "name": "ipython",
    "version": 3
   },
   "file_extension": ".py",
   "mimetype": "text/x-python",
   "name": "python",
   "nbconvert_exporter": "python",
   "pygments_lexer": "ipython3",
   "version": "3.9.12"
  }
 },
 "nbformat": 4,
 "nbformat_minor": 5
}
