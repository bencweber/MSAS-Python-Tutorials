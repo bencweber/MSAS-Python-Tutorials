{
 "cells": [
  {
   "cell_type": "markdown",
   "id": "68ed6390",
   "metadata": {},
   "source": [
    "# MSAS Tutorial Seven"
   ]
  },
  {
   "cell_type": "markdown",
   "id": "c7aa05e2",
   "metadata": {},
   "source": [
    "**This tutorial will cover two main topics, scales of data and pivot tables**"
   ]
  },
  {
   "cell_type": "markdown",
   "id": "8b2ad1c4",
   "metadata": {},
   "source": [
    "**When analyzing data, it is important to be aware that data can come in different types, or scales**"
   ]
  },
  {
   "cell_type": "markdown",
   "id": "b4071eb6",
   "metadata": {},
   "source": [
    "**First, we will define different scales to have a solid conceptual understanding of what each scale means, then we will discuss implications in data analysis**"
   ]
  },
  {
   "cell_type": "markdown",
   "id": "f79de600",
   "metadata": {},
   "source": [
    "**The Ratio Scale:**"
   ]
  },
  {
   "cell_type": "markdown",
   "id": "833b9dc4",
   "metadata": {},
   "source": [
    "* The units in the ratio scale are equally spaced\n",
    "* Zero defines the absence of the variable you are analyzing \n",
    "* This means that all mathematical computations are valid on variables in the ratio scale"
   ]
  },
  {
   "cell_type": "markdown",
   "id": "f699b4e3",
   "metadata": {},
   "source": [
    "**Ratio Scale Examples:**"
   ]
  },
  {
   "cell_type": "markdown",
   "id": "3b50d4af",
   "metadata": {},
   "source": [
    "* Height\n",
    "* Weight\n",
    "* Velocity\n",
    "* Yards\n",
    "* Shots\n",
    "* Pitches"
   ]
  },
  {
   "cell_type": "markdown",
   "id": "3ad93114",
   "metadata": {},
   "source": [
    "**The Interval Scale:**"
   ]
  },
  {
   "cell_type": "markdown",
   "id": "34409181",
   "metadata": {},
   "source": [
    "* The units are equally spaced just like the ratio scale\n",
    "* No true zero, that is to say zero does not define the absence of the variable, but defines a distinct value of the variable\n",
    "* This means that you have to be careful when performing operations like multiplication and division"
   ]
  },
  {
   "cell_type": "markdown",
   "id": "2f071f7c",
   "metadata": {},
   "source": [
    "**Interval Scale Examples:**"
   ]
  },
  {
   "cell_type": "markdown",
   "id": "b92f7f38",
   "metadata": {},
   "source": [
    "* Temperature\n",
    "* Direction (think compass)\n",
    "* X coordinate of defensive players on football field when play starts"
   ]
  },
  {
   "cell_type": "markdown",
   "id": "0652b5b2",
   "metadata": {},
   "source": [
    "**The difference between the ratio and interval scales is subtle, and probably wouldn't change most approaches you might take to the data, but you should have a clear idea of the distinction in the case you are applying more advanced statistical compuations**"
   ]
  },
  {
   "cell_type": "markdown",
   "id": "e89a34e7",
   "metadata": {},
   "source": [
    "**The Ordinal Scale:**"
   ]
  },
  {
   "cell_type": "markdown",
   "id": "54497425",
   "metadata": {},
   "source": [
    "* The order of the units are important/meaningful\n",
    "* The units are not equally spaced\n",
    "* This means that many mathematical calculations will not make sense unless you change the scale of the data"
   ]
  },
  {
   "cell_type": "markdown",
   "id": "b830656f",
   "metadata": {},
   "source": [
    "**Ordinal Scale Examples:**"
   ]
  },
  {
   "cell_type": "markdown",
   "id": "4f109356",
   "metadata": {},
   "source": [
    "* Letter grades at umich\n",
    "* Income levels\n",
    "* Satisfaction rating"
   ]
  },
  {
   "cell_type": "markdown",
   "id": "80b6c697",
   "metadata": {},
   "source": [
    "**The Nominal Scale (categorical):**"
   ]
  },
  {
   "cell_type": "markdown",
   "id": "a7e757e3",
   "metadata": {},
   "source": [
    "* Data is split into categories\n",
    "* These categories have no order in respect to one another\n",
    "* Would not even make sense to try to quantify"
   ]
  },
  {
   "cell_type": "markdown",
   "id": "7f69e929",
   "metadata": {},
   "source": [
    "**Nominal Scale Examples:**"
   ]
  },
  {
   "cell_type": "markdown",
   "id": "2586bcc4",
   "metadata": {},
   "source": [
    "* Position\n",
    "* Formation\n",
    "* Play type\n",
    "* Binary values (true/false)"
   ]
  },
  {
   "cell_type": "markdown",
   "id": "9cc77b58",
   "metadata": {},
   "source": [
    "**The takeaway from scales in data analysis:**"
   ]
  },
  {
   "cell_type": "markdown",
   "id": "354377cb",
   "metadata": {},
   "source": [
    "* Have a conceptual understanding of what each scale means to generate better ideas for data analysis\n",
    "* Understanding scales means that you are less likely to perform bad analysis and arrive at conclusions that are inaccurate or do not make sense\n",
    "* Pandas has built in functoinaility to help you deal with scales more effectively which we will not go over here, but is useful to know about so you can access them if needed"
   ]
  },
  {
   "cell_type": "markdown",
   "id": "093fd137",
   "metadata": {},
   "source": [
    "**Pivot Tables**"
   ]
  },
  {
   "cell_type": "markdown",
   "id": "aa3c8e85",
   "metadata": {},
   "source": [
    "**What is a pivot table?**"
   ]
  },
  {
   "cell_type": "markdown",
   "id": "aff6d0e9",
   "metadata": {},
   "source": [
    "* A pivot table is a method in pandas that allows us to easily summarize the relationship between two variables in a dataframe at a glance\n",
    "* A pivot table is itself a dataframe\n",
    "* A pivot table makes heavy use of the aggregate function, which applies another function to an axis of a dataframe"
   ]
  },
  {
   "cell_type": "code",
   "execution_count": 1,
   "id": "996571bd",
   "metadata": {},
   "outputs": [],
   "source": [
    "import pandas as pd\n",
    "import numpy as np"
   ]
  },
  {
   "cell_type": "markdown",
   "id": "cc9c8d9c",
   "metadata": {},
   "source": [
    "First read in the dataframe you want to use"
   ]
  },
  {
   "cell_type": "code",
   "execution_count": 6,
   "id": "63d95239",
   "metadata": {},
   "outputs": [
    {
     "data": {
      "text/html": [
       "<div>\n",
       "<style scoped>\n",
       "    .dataframe tbody tr th:only-of-type {\n",
       "        vertical-align: middle;\n",
       "    }\n",
       "\n",
       "    .dataframe tbody tr th {\n",
       "        vertical-align: top;\n",
       "    }\n",
       "\n",
       "    .dataframe thead th {\n",
       "        text-align: right;\n",
       "    }\n",
       "</style>\n",
       "<table border=\"1\" class=\"dataframe\">\n",
       "  <thead>\n",
       "    <tr style=\"text-align: right;\">\n",
       "      <th></th>\n",
       "      <th>Unnamed: 0</th>\n",
       "      <th>offense_team_name</th>\n",
       "      <th>defense_team_name</th>\n",
       "      <th>season</th>\n",
       "      <th>week</th>\n",
       "      <th>play_uuid</th>\n",
       "      <th>game_id</th>\n",
       "      <th>drive_uuid</th>\n",
       "      <th>play_game_index</th>\n",
       "      <th>play_drive_index</th>\n",
       "      <th>...</th>\n",
       "      <th>play_contested_catch_attempt</th>\n",
       "      <th>play_pass_made</th>\n",
       "      <th>play_yards_after_contact</th>\n",
       "      <th>play_target_separation</th>\n",
       "      <th>play_pass_placement_displacement</th>\n",
       "      <th>play_tackle_types</th>\n",
       "      <th>play_catch_separation</th>\n",
       "      <th>play_handoff_received</th>\n",
       "      <th>play_ep</th>\n",
       "      <th>play_scrimmage_epa</th>\n",
       "    </tr>\n",
       "  </thead>\n",
       "  <tbody>\n",
       "    <tr>\n",
       "      <th>0</th>\n",
       "      <td>0</td>\n",
       "      <td>Michigan Wolverines</td>\n",
       "      <td>Colorado State Rams</td>\n",
       "      <td>2022/2023</td>\n",
       "      <td>Week 1</td>\n",
       "      <td>884f6cf2-001f-44c5-8c76-ad2213f9eac1</td>\n",
       "      <td>1501304</td>\n",
       "      <td>884f6cf2-001f-44c5-8c76-ad2213f9eac1</td>\n",
       "      <td>1</td>\n",
       "      <td>1</td>\n",
       "      <td>...</td>\n",
       "      <td>NaN</td>\n",
       "      <td>NaN</td>\n",
       "      <td>NaN</td>\n",
       "      <td>NaN</td>\n",
       "      <td>NaN</td>\n",
       "      <td>{}</td>\n",
       "      <td>NaN</td>\n",
       "      <td>NaN</td>\n",
       "      <td>NaN</td>\n",
       "      <td>NaN</td>\n",
       "    </tr>\n",
       "    <tr>\n",
       "      <th>1</th>\n",
       "      <td>1</td>\n",
       "      <td>Michigan Wolverines</td>\n",
       "      <td>Colorado State Rams</td>\n",
       "      <td>2022/2023</td>\n",
       "      <td>Week 1</td>\n",
       "      <td>cfb0895e-02d4-4332-8522-326cd2bfa97b</td>\n",
       "      <td>1501304</td>\n",
       "      <td>884f6cf2-001f-44c5-8c76-ad2213f9eac1</td>\n",
       "      <td>2</td>\n",
       "      <td>2</td>\n",
       "      <td>...</td>\n",
       "      <td>NaN</td>\n",
       "      <td>NaN</td>\n",
       "      <td>2.92</td>\n",
       "      <td>NaN</td>\n",
       "      <td>NaN</td>\n",
       "      <td>{\"Assisted - Success\",\"Assisted - Success\",\"So...</td>\n",
       "      <td>NaN</td>\n",
       "      <td>NaN</td>\n",
       "      <td>0.934538</td>\n",
       "      <td>-0.191721</td>\n",
       "    </tr>\n",
       "    <tr>\n",
       "      <th>2</th>\n",
       "      <td>2</td>\n",
       "      <td>Michigan Wolverines</td>\n",
       "      <td>Colorado State Rams</td>\n",
       "      <td>2022/2023</td>\n",
       "      <td>Week 1</td>\n",
       "      <td>d4fdbd26-472f-45ed-9616-66b73bb1d0c4</td>\n",
       "      <td>1501304</td>\n",
       "      <td>884f6cf2-001f-44c5-8c76-ad2213f9eac1</td>\n",
       "      <td>3</td>\n",
       "      <td>3</td>\n",
       "      <td>...</td>\n",
       "      <td>True</td>\n",
       "      <td>True</td>\n",
       "      <td>NaN</td>\n",
       "      <td>11.485200</td>\n",
       "      <td>1.267484</td>\n",
       "      <td>{}</td>\n",
       "      <td>5.654395</td>\n",
       "      <td>NaN</td>\n",
       "      <td>0.742817</td>\n",
       "      <td>-0.911471</td>\n",
       "    </tr>\n",
       "    <tr>\n",
       "      <th>3</th>\n",
       "      <td>3</td>\n",
       "      <td>Michigan Wolverines</td>\n",
       "      <td>Colorado State Rams</td>\n",
       "      <td>2022/2023</td>\n",
       "      <td>Week 1</td>\n",
       "      <td>89f65385-1542-4785-a830-cf3041171375</td>\n",
       "      <td>1501304</td>\n",
       "      <td>884f6cf2-001f-44c5-8c76-ad2213f9eac1</td>\n",
       "      <td>4</td>\n",
       "      <td>4</td>\n",
       "      <td>...</td>\n",
       "      <td>True</td>\n",
       "      <td>True</td>\n",
       "      <td>NaN</td>\n",
       "      <td>1.122874</td>\n",
       "      <td>1.531255</td>\n",
       "      <td>{}</td>\n",
       "      <td>2.369795</td>\n",
       "      <td>NaN</td>\n",
       "      <td>-0.168654</td>\n",
       "      <td>-1.467112</td>\n",
       "    </tr>\n",
       "    <tr>\n",
       "      <th>4</th>\n",
       "      <td>4</td>\n",
       "      <td>Michigan Wolverines</td>\n",
       "      <td>Colorado State Rams</td>\n",
       "      <td>2022/2023</td>\n",
       "      <td>Week 1</td>\n",
       "      <td>47f1bf06-23c6-495b-83ac-70d041e3052d</td>\n",
       "      <td>1501304</td>\n",
       "      <td>884f6cf2-001f-44c5-8c76-ad2213f9eac1</td>\n",
       "      <td>5</td>\n",
       "      <td>5</td>\n",
       "      <td>...</td>\n",
       "      <td>NaN</td>\n",
       "      <td>NaN</td>\n",
       "      <td>NaN</td>\n",
       "      <td>NaN</td>\n",
       "      <td>NaN</td>\n",
       "      <td>{}</td>\n",
       "      <td>NaN</td>\n",
       "      <td>NaN</td>\n",
       "      <td>-1.635766</td>\n",
       "      <td>0.782059</td>\n",
       "    </tr>\n",
       "  </tbody>\n",
       "</table>\n",
       "<p>5 rows × 170 columns</p>\n",
       "</div>"
      ],
      "text/plain": [
       "   Unnamed: 0    offense_team_name    defense_team_name     season    week  \\\n",
       "0           0  Michigan Wolverines  Colorado State Rams  2022/2023  Week 1   \n",
       "1           1  Michigan Wolverines  Colorado State Rams  2022/2023  Week 1   \n",
       "2           2  Michigan Wolverines  Colorado State Rams  2022/2023  Week 1   \n",
       "3           3  Michigan Wolverines  Colorado State Rams  2022/2023  Week 1   \n",
       "4           4  Michigan Wolverines  Colorado State Rams  2022/2023  Week 1   \n",
       "\n",
       "                              play_uuid  game_id  \\\n",
       "0  884f6cf2-001f-44c5-8c76-ad2213f9eac1  1501304   \n",
       "1  cfb0895e-02d4-4332-8522-326cd2bfa97b  1501304   \n",
       "2  d4fdbd26-472f-45ed-9616-66b73bb1d0c4  1501304   \n",
       "3  89f65385-1542-4785-a830-cf3041171375  1501304   \n",
       "4  47f1bf06-23c6-495b-83ac-70d041e3052d  1501304   \n",
       "\n",
       "                             drive_uuid  play_game_index  play_drive_index  \\\n",
       "0  884f6cf2-001f-44c5-8c76-ad2213f9eac1                1                 1   \n",
       "1  884f6cf2-001f-44c5-8c76-ad2213f9eac1                2                 2   \n",
       "2  884f6cf2-001f-44c5-8c76-ad2213f9eac1                3                 3   \n",
       "3  884f6cf2-001f-44c5-8c76-ad2213f9eac1                4                 4   \n",
       "4  884f6cf2-001f-44c5-8c76-ad2213f9eac1                5                 5   \n",
       "\n",
       "   ...  play_contested_catch_attempt  play_pass_made  \\\n",
       "0  ...                           NaN             NaN   \n",
       "1  ...                           NaN             NaN   \n",
       "2  ...                          True            True   \n",
       "3  ...                          True            True   \n",
       "4  ...                           NaN             NaN   \n",
       "\n",
       "   play_yards_after_contact  play_target_separation  \\\n",
       "0                       NaN                     NaN   \n",
       "1                      2.92                     NaN   \n",
       "2                       NaN               11.485200   \n",
       "3                       NaN                1.122874   \n",
       "4                       NaN                     NaN   \n",
       "\n",
       "   play_pass_placement_displacement  \\\n",
       "0                               NaN   \n",
       "1                               NaN   \n",
       "2                          1.267484   \n",
       "3                          1.531255   \n",
       "4                               NaN   \n",
       "\n",
       "                                   play_tackle_types  play_catch_separation  \\\n",
       "0                                                 {}                    NaN   \n",
       "1  {\"Assisted - Success\",\"Assisted - Success\",\"So...                    NaN   \n",
       "2                                                 {}               5.654395   \n",
       "3                                                 {}               2.369795   \n",
       "4                                                 {}                    NaN   \n",
       "\n",
       "   play_handoff_received   play_ep  play_scrimmage_epa  \n",
       "0                    NaN       NaN                 NaN  \n",
       "1                    NaN  0.934538           -0.191721  \n",
       "2                    NaN  0.742817           -0.911471  \n",
       "3                    NaN -0.168654           -1.467112  \n",
       "4                    NaN -1.635766            0.782059  \n",
       "\n",
       "[5 rows x 170 columns]"
      ]
     },
     "execution_count": 6,
     "metadata": {},
     "output_type": "execute_result"
    }
   ],
   "source": [
    "pbp = pd.read_csv('UofM 2022 pbp')\n",
    "pbp.head()"
   ]
  },
  {
   "cell_type": "code",
   "execution_count": 8,
   "id": "d08a1938",
   "metadata": {},
   "outputs": [
    {
     "data": {
      "text/html": [
       "<div>\n",
       "<style scoped>\n",
       "    .dataframe tbody tr th:only-of-type {\n",
       "        vertical-align: middle;\n",
       "    }\n",
       "\n",
       "    .dataframe tbody tr th {\n",
       "        vertical-align: top;\n",
       "    }\n",
       "\n",
       "    .dataframe thead th {\n",
       "        text-align: right;\n",
       "    }\n",
       "</style>\n",
       "<table border=\"1\" class=\"dataframe\">\n",
       "  <thead>\n",
       "    <tr style=\"text-align: right;\">\n",
       "      <th></th>\n",
       "      <th>offense_team_name</th>\n",
       "      <th>defense_team_name</th>\n",
       "      <th>season</th>\n",
       "      <th>week</th>\n",
       "      <th>play_uuid</th>\n",
       "      <th>game_id</th>\n",
       "      <th>drive_uuid</th>\n",
       "      <th>play_game_index</th>\n",
       "      <th>play_drive_index</th>\n",
       "      <th>play_quarter</th>\n",
       "      <th>...</th>\n",
       "      <th>play_contested_catch_attempt</th>\n",
       "      <th>play_pass_made</th>\n",
       "      <th>play_yards_after_contact</th>\n",
       "      <th>play_target_separation</th>\n",
       "      <th>play_pass_placement_displacement</th>\n",
       "      <th>play_tackle_types</th>\n",
       "      <th>play_catch_separation</th>\n",
       "      <th>play_handoff_received</th>\n",
       "      <th>play_ep</th>\n",
       "      <th>play_scrimmage_epa</th>\n",
       "    </tr>\n",
       "  </thead>\n",
       "  <tbody>\n",
       "    <tr>\n",
       "      <th>0</th>\n",
       "      <td>Michigan Wolverines</td>\n",
       "      <td>Colorado State Rams</td>\n",
       "      <td>2022/2023</td>\n",
       "      <td>Week 1</td>\n",
       "      <td>884f6cf2-001f-44c5-8c76-ad2213f9eac1</td>\n",
       "      <td>1501304</td>\n",
       "      <td>884f6cf2-001f-44c5-8c76-ad2213f9eac1</td>\n",
       "      <td>1</td>\n",
       "      <td>1</td>\n",
       "      <td>1</td>\n",
       "      <td>...</td>\n",
       "      <td>NaN</td>\n",
       "      <td>NaN</td>\n",
       "      <td>NaN</td>\n",
       "      <td>NaN</td>\n",
       "      <td>NaN</td>\n",
       "      <td>{}</td>\n",
       "      <td>NaN</td>\n",
       "      <td>NaN</td>\n",
       "      <td>NaN</td>\n",
       "      <td>NaN</td>\n",
       "    </tr>\n",
       "    <tr>\n",
       "      <th>1</th>\n",
       "      <td>Michigan Wolverines</td>\n",
       "      <td>Colorado State Rams</td>\n",
       "      <td>2022/2023</td>\n",
       "      <td>Week 1</td>\n",
       "      <td>cfb0895e-02d4-4332-8522-326cd2bfa97b</td>\n",
       "      <td>1501304</td>\n",
       "      <td>884f6cf2-001f-44c5-8c76-ad2213f9eac1</td>\n",
       "      <td>2</td>\n",
       "      <td>2</td>\n",
       "      <td>1</td>\n",
       "      <td>...</td>\n",
       "      <td>NaN</td>\n",
       "      <td>NaN</td>\n",
       "      <td>2.92</td>\n",
       "      <td>NaN</td>\n",
       "      <td>NaN</td>\n",
       "      <td>{\"Assisted - Success\",\"Assisted - Success\",\"So...</td>\n",
       "      <td>NaN</td>\n",
       "      <td>NaN</td>\n",
       "      <td>0.934538</td>\n",
       "      <td>-0.191721</td>\n",
       "    </tr>\n",
       "    <tr>\n",
       "      <th>2</th>\n",
       "      <td>Michigan Wolverines</td>\n",
       "      <td>Colorado State Rams</td>\n",
       "      <td>2022/2023</td>\n",
       "      <td>Week 1</td>\n",
       "      <td>d4fdbd26-472f-45ed-9616-66b73bb1d0c4</td>\n",
       "      <td>1501304</td>\n",
       "      <td>884f6cf2-001f-44c5-8c76-ad2213f9eac1</td>\n",
       "      <td>3</td>\n",
       "      <td>3</td>\n",
       "      <td>1</td>\n",
       "      <td>...</td>\n",
       "      <td>True</td>\n",
       "      <td>True</td>\n",
       "      <td>NaN</td>\n",
       "      <td>11.485200</td>\n",
       "      <td>1.267484</td>\n",
       "      <td>{}</td>\n",
       "      <td>5.654395</td>\n",
       "      <td>NaN</td>\n",
       "      <td>0.742817</td>\n",
       "      <td>-0.911471</td>\n",
       "    </tr>\n",
       "    <tr>\n",
       "      <th>3</th>\n",
       "      <td>Michigan Wolverines</td>\n",
       "      <td>Colorado State Rams</td>\n",
       "      <td>2022/2023</td>\n",
       "      <td>Week 1</td>\n",
       "      <td>89f65385-1542-4785-a830-cf3041171375</td>\n",
       "      <td>1501304</td>\n",
       "      <td>884f6cf2-001f-44c5-8c76-ad2213f9eac1</td>\n",
       "      <td>4</td>\n",
       "      <td>4</td>\n",
       "      <td>1</td>\n",
       "      <td>...</td>\n",
       "      <td>True</td>\n",
       "      <td>True</td>\n",
       "      <td>NaN</td>\n",
       "      <td>1.122874</td>\n",
       "      <td>1.531255</td>\n",
       "      <td>{}</td>\n",
       "      <td>2.369795</td>\n",
       "      <td>NaN</td>\n",
       "      <td>-0.168654</td>\n",
       "      <td>-1.467112</td>\n",
       "    </tr>\n",
       "    <tr>\n",
       "      <th>4</th>\n",
       "      <td>Michigan Wolverines</td>\n",
       "      <td>Colorado State Rams</td>\n",
       "      <td>2022/2023</td>\n",
       "      <td>Week 1</td>\n",
       "      <td>47f1bf06-23c6-495b-83ac-70d041e3052d</td>\n",
       "      <td>1501304</td>\n",
       "      <td>884f6cf2-001f-44c5-8c76-ad2213f9eac1</td>\n",
       "      <td>5</td>\n",
       "      <td>5</td>\n",
       "      <td>1</td>\n",
       "      <td>...</td>\n",
       "      <td>NaN</td>\n",
       "      <td>NaN</td>\n",
       "      <td>NaN</td>\n",
       "      <td>NaN</td>\n",
       "      <td>NaN</td>\n",
       "      <td>{}</td>\n",
       "      <td>NaN</td>\n",
       "      <td>NaN</td>\n",
       "      <td>-1.635766</td>\n",
       "      <td>0.782059</td>\n",
       "    </tr>\n",
       "  </tbody>\n",
       "</table>\n",
       "<p>5 rows × 169 columns</p>\n",
       "</div>"
      ],
      "text/plain": [
       "     offense_team_name    defense_team_name     season    week  \\\n",
       "0  Michigan Wolverines  Colorado State Rams  2022/2023  Week 1   \n",
       "1  Michigan Wolverines  Colorado State Rams  2022/2023  Week 1   \n",
       "2  Michigan Wolverines  Colorado State Rams  2022/2023  Week 1   \n",
       "3  Michigan Wolverines  Colorado State Rams  2022/2023  Week 1   \n",
       "4  Michigan Wolverines  Colorado State Rams  2022/2023  Week 1   \n",
       "\n",
       "                              play_uuid  game_id  \\\n",
       "0  884f6cf2-001f-44c5-8c76-ad2213f9eac1  1501304   \n",
       "1  cfb0895e-02d4-4332-8522-326cd2bfa97b  1501304   \n",
       "2  d4fdbd26-472f-45ed-9616-66b73bb1d0c4  1501304   \n",
       "3  89f65385-1542-4785-a830-cf3041171375  1501304   \n",
       "4  47f1bf06-23c6-495b-83ac-70d041e3052d  1501304   \n",
       "\n",
       "                             drive_uuid  play_game_index  play_drive_index  \\\n",
       "0  884f6cf2-001f-44c5-8c76-ad2213f9eac1                1                 1   \n",
       "1  884f6cf2-001f-44c5-8c76-ad2213f9eac1                2                 2   \n",
       "2  884f6cf2-001f-44c5-8c76-ad2213f9eac1                3                 3   \n",
       "3  884f6cf2-001f-44c5-8c76-ad2213f9eac1                4                 4   \n",
       "4  884f6cf2-001f-44c5-8c76-ad2213f9eac1                5                 5   \n",
       "\n",
       "   play_quarter  ...  play_contested_catch_attempt  play_pass_made  \\\n",
       "0             1  ...                           NaN             NaN   \n",
       "1             1  ...                           NaN             NaN   \n",
       "2             1  ...                          True            True   \n",
       "3             1  ...                          True            True   \n",
       "4             1  ...                           NaN             NaN   \n",
       "\n",
       "   play_yards_after_contact  play_target_separation  \\\n",
       "0                       NaN                     NaN   \n",
       "1                      2.92                     NaN   \n",
       "2                       NaN               11.485200   \n",
       "3                       NaN                1.122874   \n",
       "4                       NaN                     NaN   \n",
       "\n",
       "   play_pass_placement_displacement  \\\n",
       "0                               NaN   \n",
       "1                               NaN   \n",
       "2                          1.267484   \n",
       "3                          1.531255   \n",
       "4                               NaN   \n",
       "\n",
       "                                   play_tackle_types  play_catch_separation  \\\n",
       "0                                                 {}                    NaN   \n",
       "1  {\"Assisted - Success\",\"Assisted - Success\",\"So...                    NaN   \n",
       "2                                                 {}               5.654395   \n",
       "3                                                 {}               2.369795   \n",
       "4                                                 {}                    NaN   \n",
       "\n",
       "   play_handoff_received   play_ep  play_scrimmage_epa  \n",
       "0                    NaN       NaN                 NaN  \n",
       "1                    NaN  0.934538           -0.191721  \n",
       "2                    NaN  0.742817           -0.911471  \n",
       "3                    NaN -0.168654           -1.467112  \n",
       "4                    NaN -1.635766            0.782059  \n",
       "\n",
       "[5 rows x 169 columns]"
      ]
     },
     "execution_count": 8,
     "metadata": {},
     "output_type": "execute_result"
    }
   ],
   "source": [
    "pbp = pbp.iloc[:,1:]\n",
    "pbp.head()"
   ]
  },
  {
   "cell_type": "markdown",
   "id": "0bd8359f",
   "metadata": {},
   "source": [
    "Let's say that we want to create a new column in our dataframe that defines play quality based on the EPA generated on the play. Then we want to compare play quality between rushing plays and passing plays. The pivot table is a great way to do this:"
   ]
  },
  {
   "cell_type": "markdown",
   "id": "b91923a5",
   "metadata": {},
   "source": [
    "What do you think the scale of play quality would be?"
   ]
  },
  {
   "cell_type": "code",
   "execution_count": 9,
   "id": "5dc420cb",
   "metadata": {},
   "outputs": [],
   "source": [
    "pbp = pbp[pbp['offense_team_name'] == 'Michigan Wolverines']\n",
    "pbp = pbp[(pbp['play_type'] == 'Rush') | (pbp['play_type'] == 'Pass')]"
   ]
  },
  {
   "cell_type": "markdown",
   "id": "a74fd5a7",
   "metadata": {},
   "source": [
    "We can create a function to assign a category for play quality based on the EPA it generated:"
   ]
  },
  {
   "cell_type": "code",
   "execution_count": 11,
   "id": "f006c5cf",
   "metadata": {},
   "outputs": [],
   "source": [
    "def play_quality_func(EPA):\n",
    "    if (EPA < -.5):\n",
    "        return 'abysmal'\n",
    "    elif ((EPA >= -.5) & (EPA < -.1)):\n",
    "        return 'bad'\n",
    "    elif ((EPA >= -.1) & (EPA < .05)):\n",
    "        return 'decent'\n",
    "    elif ((EPA >= .05) & (EPA < .5)):\n",
    "        return 'good'\n",
    "    else:\n",
    "        return 'phenominal'\n",
    "        "
   ]
  },
  {
   "cell_type": "markdown",
   "id": "e5e76d34",
   "metadata": {},
   "source": [
    "Now we can apply this function to the EPA column in our dataframe to create a new column called play quality:"
   ]
  },
  {
   "cell_type": "code",
   "execution_count": 12,
   "id": "6d797b7b",
   "metadata": {},
   "outputs": [],
   "source": [
    "pbp['play_quality_epa'] = pbp['play_scrimmage_epa'].apply(lambda x: play_quality_func(x))"
   ]
  },
  {
   "cell_type": "code",
   "execution_count": 13,
   "id": "61c40c0c",
   "metadata": {},
   "outputs": [
    {
     "data": {
      "text/plain": [
       "1              bad\n",
       "2          abysmal\n",
       "3          abysmal\n",
       "13      phenominal\n",
       "14      phenominal\n",
       "           ...    \n",
       "2452    phenominal\n",
       "2466          good\n",
       "2467           bad\n",
       "2469           bad\n",
       "2470           bad\n",
       "Name: play_quality_epa, Length: 980, dtype: object"
      ]
     },
     "execution_count": 13,
     "metadata": {},
     "output_type": "execute_result"
    }
   ],
   "source": [
    "pbp['play_quality_epa']"
   ]
  },
  {
   "cell_type": "markdown",
   "id": "f4a7e9f4",
   "metadata": {},
   "source": [
    "Creating the pivot table:"
   ]
  },
  {
   "cell_type": "code",
   "execution_count": 14,
   "id": "806b1252",
   "metadata": {},
   "outputs": [],
   "source": [
    "pt = pbp.pivot_table(values = 'play_scrimmage_epa', index = 'play_type', columns = 'play_quality_epa', aggfunc = [np.mean])"
   ]
  },
  {
   "cell_type": "code",
   "execution_count": 15,
   "id": "6dce971b",
   "metadata": {},
   "outputs": [
    {
     "data": {
      "text/html": [
       "<div>\n",
       "<style scoped>\n",
       "    .dataframe tbody tr th:only-of-type {\n",
       "        vertical-align: middle;\n",
       "    }\n",
       "\n",
       "    .dataframe tbody tr th {\n",
       "        vertical-align: top;\n",
       "    }\n",
       "\n",
       "    .dataframe thead tr th {\n",
       "        text-align: left;\n",
       "    }\n",
       "\n",
       "    .dataframe thead tr:last-of-type th {\n",
       "        text-align: right;\n",
       "    }\n",
       "</style>\n",
       "<table border=\"1\" class=\"dataframe\">\n",
       "  <thead>\n",
       "    <tr>\n",
       "      <th></th>\n",
       "      <th colspan=\"5\" halign=\"left\">mean</th>\n",
       "    </tr>\n",
       "    <tr>\n",
       "      <th>play_quality_epa</th>\n",
       "      <th>abysmal</th>\n",
       "      <th>bad</th>\n",
       "      <th>decent</th>\n",
       "      <th>good</th>\n",
       "      <th>phenominal</th>\n",
       "    </tr>\n",
       "    <tr>\n",
       "      <th>play_type</th>\n",
       "      <th></th>\n",
       "      <th></th>\n",
       "      <th></th>\n",
       "      <th></th>\n",
       "      <th></th>\n",
       "    </tr>\n",
       "  </thead>\n",
       "  <tbody>\n",
       "    <tr>\n",
       "      <th>Pass</th>\n",
       "      <td>-1.289342</td>\n",
       "      <td>-0.340190</td>\n",
       "      <td>-0.020306</td>\n",
       "      <td>0.272224</td>\n",
       "      <td>1.778220</td>\n",
       "    </tr>\n",
       "    <tr>\n",
       "      <th>Rush</th>\n",
       "      <td>-1.034579</td>\n",
       "      <td>-0.295655</td>\n",
       "      <td>-0.023104</td>\n",
       "      <td>0.287727</td>\n",
       "      <td>1.490291</td>\n",
       "    </tr>\n",
       "  </tbody>\n",
       "</table>\n",
       "</div>"
      ],
      "text/plain": [
       "                      mean                                         \n",
       "play_quality_epa   abysmal       bad    decent      good phenominal\n",
       "play_type                                                          \n",
       "Pass             -1.289342 -0.340190 -0.020306  0.272224   1.778220\n",
       "Rush             -1.034579 -0.295655 -0.023104  0.287727   1.490291"
      ]
     },
     "execution_count": 15,
     "metadata": {},
     "output_type": "execute_result"
    }
   ],
   "source": [
    "pt.head()"
   ]
  },
  {
   "cell_type": "markdown",
   "id": "cbd2b833",
   "metadata": {},
   "source": [
    "Notice that the pivot table allows for easy analysis of the relationship between two variables"
   ]
  },
  {
   "cell_type": "markdown",
   "id": "5be80f9a",
   "metadata": {},
   "source": [
    "* One column is compared to another column as row indices\n",
    "* The values parameter allows you to choose a column for investigation\n",
    "* The index parameter specifies which column you want as row indices\n",
    "* The columns parameter specifies which column you want as your column headers\n",
    "* The aggfunc parameter specifies what function you want to operate on the values parameter"
   ]
  },
  {
   "cell_type": "markdown",
   "id": "a684e2d7",
   "metadata": {},
   "source": [
    "**That's all for this tutorial! Try to think of some cool ways that you could use pivot tables in your own dataframe!**"
   ]
  }
 ],
 "metadata": {
  "kernelspec": {
   "display_name": "Python 3 (ipykernel)",
   "language": "python",
   "name": "python3"
  },
  "language_info": {
   "codemirror_mode": {
    "name": "ipython",
    "version": 3
   },
   "file_extension": ".py",
   "mimetype": "text/x-python",
   "name": "python",
   "nbconvert_exporter": "python",
   "pygments_lexer": "ipython3",
   "version": "3.9.12"
  }
 },
 "nbformat": 4,
 "nbformat_minor": 5
}
